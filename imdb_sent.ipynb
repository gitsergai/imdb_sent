{
  "nbformat": 4,
  "nbformat_minor": 0,
  "metadata": {
    "colab": {
      "provenance": []
    },
    "kernelspec": {
      "name": "python3",
      "display_name": "Python 3"
    },
    "language_info": {
      "name": "python"
    }
  },
  "cells": [
    {
      "cell_type": "code",
      "execution_count": 1,
      "metadata": {
        "id": "76JL8EG4gfX1"
      },
      "outputs": [],
      "source": [
        "#Sentiment analysis of IMDB datset with Keras and TensorFlow\n",
        "#Goal: Comparison of three methods for text encoding:\n",
        "#1- Default Keras (Word Indexing)\n",
        "#2 - One hot encoding\n",
        "#3 - Word embedding\n",
        "\n",
        "from tensorflow.keras.datasets import imdb\n",
        "from tensorflow.keras.models import Sequential\n",
        "from tensorflow.keras.layers import Dense, Embedding, Flatten, Dropout\n",
        "from tensorflow.keras import utils\n",
        "from tensorflow.keras.preprocessing.sequence import pad_sequences\n",
        "import numpy as np\n",
        "import matplotlib.pyplot as plt\n"
      ]
    },
    {
      "cell_type": "code",
      "source": [
        "#1 - Default\n",
        "# Load IMDb dataset\n",
        "max_words=10000\n",
        "(x_train, y_train), (x_test, y_test) = imdb.load_data(num_words=max_words)"
      ],
      "metadata": {
        "id": "2dDEj5p3gq4m",
        "colab": {
          "base_uri": "https://localhost:8080/"
        },
        "outputId": "53cd81e4-2ebd-43d9-adab-6372dc9524d9"
      },
      "execution_count": 2,
      "outputs": [
        {
          "output_type": "stream",
          "name": "stdout",
          "text": [
            "Downloading data from https://storage.googleapis.com/tensorflow/tf-keras-datasets/imdb.npz\n",
            "\u001b[1m17464789/17464789\u001b[0m \u001b[32m━━━━━━━━━━━━━━━━━━━━\u001b[0m\u001b[37m\u001b[0m \u001b[1m0s\u001b[0m 0us/step\n"
          ]
        }
      ]
    },
    {
      "cell_type": "code",
      "source": [
        "#1 - Default\n",
        "#Prepare data for training\n",
        "maxlen = 200\n",
        "x_train = pad_sequences(x_train, maxlen=maxlen, padding='post')\n",
        "x_test = pad_sequences(x_test, maxlen=maxlen, padding='post')"
      ],
      "metadata": {
        "id": "oN-jJVjOP1xH"
      },
      "execution_count": 3,
      "outputs": []
    },
    {
      "cell_type": "code",
      "source": [
        "#1 - Default\n",
        "#Create ANN\n",
        "model = Sequential()\n",
        "model.add(Dense(128, activation='relu', input_shape=(maxlen,)))\n",
        "model.add(Dense(64, activation='relu'))\n",
        "model.add(Dense(1, activation='sigmoid')) #у нас бинарная класификация, поэтому один нейрон\n",
        "\n",
        "model.compile(optimizer='adam',\n",
        "              loss='binary_crossentropy',\n",
        "              metrics=['accuracy'])"
      ],
      "metadata": {
        "id": "zmXido-bP_l_",
        "colab": {
          "base_uri": "https://localhost:8080/"
        },
        "outputId": "db746750-9ec5-43b8-b002-e68cad6f6d63"
      },
      "execution_count": 4,
      "outputs": [
        {
          "output_type": "stream",
          "name": "stderr",
          "text": [
            "/usr/local/lib/python3.11/dist-packages/keras/src/layers/core/dense.py:87: UserWarning: Do not pass an `input_shape`/`input_dim` argument to a layer. When using Sequential models, prefer using an `Input(shape)` object as the first layer in the model instead.\n",
            "  super().__init__(activity_regularizer=activity_regularizer, **kwargs)\n"
          ]
        }
      ]
    },
    {
      "cell_type": "code",
      "source": [
        "#1 - Default\n",
        "#Train ANN\n",
        "history = model.fit(x_train,\n",
        "                    y_train,\n",
        "                    epochs=25,\n",
        "                    batch_size=128,\n",
        "                    validation_split=0.1)"
      ],
      "metadata": {
        "colab": {
          "base_uri": "https://localhost:8080/"
        },
        "id": "8WOFL5KXQH3x",
        "outputId": "74a04ba8-b1ca-441e-a233-d1ffefe4c6f3"
      },
      "execution_count": 5,
      "outputs": [
        {
          "output_type": "stream",
          "name": "stdout",
          "text": [
            "Epoch 1/25\n",
            "\u001b[1m176/176\u001b[0m \u001b[32m━━━━━━━━━━━━━━━━━━━━\u001b[0m\u001b[37m\u001b[0m \u001b[1m3s\u001b[0m 7ms/step - accuracy: 0.5008 - loss: 210.2119 - val_accuracy: 0.5036 - val_loss: 38.2855\n",
            "Epoch 2/25\n",
            "\u001b[1m176/176\u001b[0m \u001b[32m━━━━━━━━━━━━━━━━━━━━\u001b[0m\u001b[37m\u001b[0m \u001b[1m2s\u001b[0m 5ms/step - accuracy: 0.5251 - loss: 21.9943 - val_accuracy: 0.5116 - val_loss: 2.0769\n",
            "Epoch 3/25\n",
            "\u001b[1m176/176\u001b[0m \u001b[32m━━━━━━━━━━━━━━━━━━━━\u001b[0m\u001b[37m\u001b[0m \u001b[1m1s\u001b[0m 5ms/step - accuracy: 0.5108 - loss: 1.4772 - val_accuracy: 0.5180 - val_loss: 0.8932\n",
            "Epoch 4/25\n",
            "\u001b[1m176/176\u001b[0m \u001b[32m━━━━━━━━━━━━━━━━━━━━\u001b[0m\u001b[37m\u001b[0m \u001b[1m1s\u001b[0m 5ms/step - accuracy: 0.5109 - loss: 0.9030 - val_accuracy: 0.5148 - val_loss: 0.9113\n",
            "Epoch 5/25\n",
            "\u001b[1m176/176\u001b[0m \u001b[32m━━━━━━━━━━━━━━━━━━━━\u001b[0m\u001b[37m\u001b[0m \u001b[1m1s\u001b[0m 4ms/step - accuracy: 0.5085 - loss: 0.8054 - val_accuracy: 0.4992 - val_loss: 0.7854\n",
            "Epoch 6/25\n",
            "\u001b[1m176/176\u001b[0m \u001b[32m━━━━━━━━━━━━━━━━━━━━\u001b[0m\u001b[37m\u001b[0m \u001b[1m1s\u001b[0m 4ms/step - accuracy: 0.5096 - loss: 0.7453 - val_accuracy: 0.4932 - val_loss: 0.8060\n",
            "Epoch 7/25\n",
            "\u001b[1m176/176\u001b[0m \u001b[32m━━━━━━━━━━━━━━━━━━━━\u001b[0m\u001b[37m\u001b[0m \u001b[1m2s\u001b[0m 6ms/step - accuracy: 0.5079 - loss: 0.7264 - val_accuracy: 0.5160 - val_loss: 0.8017\n",
            "Epoch 8/25\n",
            "\u001b[1m176/176\u001b[0m \u001b[32m━━━━━━━━━━━━━━━━━━━━\u001b[0m\u001b[37m\u001b[0m \u001b[1m1s\u001b[0m 6ms/step - accuracy: 0.5181 - loss: 0.7199 - val_accuracy: 0.5088 - val_loss: 0.7768\n",
            "Epoch 9/25\n",
            "\u001b[1m176/176\u001b[0m \u001b[32m━━━━━━━━━━━━━━━━━━━━\u001b[0m\u001b[37m\u001b[0m \u001b[1m1s\u001b[0m 4ms/step - accuracy: 0.5103 - loss: 0.7152 - val_accuracy: 0.4944 - val_loss: 0.7689\n",
            "Epoch 10/25\n",
            "\u001b[1m176/176\u001b[0m \u001b[32m━━━━━━━━━━━━━━━━━━━━\u001b[0m\u001b[37m\u001b[0m \u001b[1m1s\u001b[0m 4ms/step - accuracy: 0.5156 - loss: 0.7071 - val_accuracy: 0.5208 - val_loss: 0.7546\n",
            "Epoch 11/25\n",
            "\u001b[1m176/176\u001b[0m \u001b[32m━━━━━━━━━━━━━━━━━━━━\u001b[0m\u001b[37m\u001b[0m \u001b[1m1s\u001b[0m 3ms/step - accuracy: 0.5110 - loss: 0.6981 - val_accuracy: 0.4872 - val_loss: 0.7972\n",
            "Epoch 12/25\n",
            "\u001b[1m176/176\u001b[0m \u001b[32m━━━━━━━━━━━━━━━━━━━━\u001b[0m\u001b[37m\u001b[0m \u001b[1m1s\u001b[0m 3ms/step - accuracy: 0.5088 - loss: 0.7009 - val_accuracy: 0.5208 - val_loss: 0.7462\n",
            "Epoch 13/25\n",
            "\u001b[1m176/176\u001b[0m \u001b[32m━━━━━━━━━━━━━━━━━━━━\u001b[0m\u001b[37m\u001b[0m \u001b[1m1s\u001b[0m 3ms/step - accuracy: 0.5099 - loss: 0.6968 - val_accuracy: 0.5248 - val_loss: 0.7555\n",
            "Epoch 14/25\n",
            "\u001b[1m176/176\u001b[0m \u001b[32m━━━━━━━━━━━━━━━━━━━━\u001b[0m\u001b[37m\u001b[0m \u001b[1m1s\u001b[0m 6ms/step - accuracy: 0.5149 - loss: 0.6929 - val_accuracy: 0.5140 - val_loss: 0.7623\n",
            "Epoch 15/25\n",
            "\u001b[1m176/176\u001b[0m \u001b[32m━━━━━━━━━━━━━━━━━━━━\u001b[0m\u001b[37m\u001b[0m \u001b[1m1s\u001b[0m 6ms/step - accuracy: 0.5091 - loss: 0.6924 - val_accuracy: 0.4912 - val_loss: 0.7581\n",
            "Epoch 16/25\n",
            "\u001b[1m176/176\u001b[0m \u001b[32m━━━━━━━━━━━━━━━━━━━━\u001b[0m\u001b[37m\u001b[0m \u001b[1m1s\u001b[0m 7ms/step - accuracy: 0.5172 - loss: 0.6911 - val_accuracy: 0.4900 - val_loss: 0.7687\n",
            "Epoch 17/25\n",
            "\u001b[1m176/176\u001b[0m \u001b[32m━━━━━━━━━━━━━━━━━━━━\u001b[0m\u001b[37m\u001b[0m \u001b[1m1s\u001b[0m 5ms/step - accuracy: 0.5156 - loss: 0.6887 - val_accuracy: 0.5008 - val_loss: 0.7562\n",
            "Epoch 18/25\n",
            "\u001b[1m176/176\u001b[0m \u001b[32m━━━━━━━━━━━━━━━━━━━━\u001b[0m\u001b[37m\u001b[0m \u001b[1m1s\u001b[0m 6ms/step - accuracy: 0.5201 - loss: 0.6832 - val_accuracy: 0.5156 - val_loss: 0.7625\n",
            "Epoch 19/25\n",
            "\u001b[1m176/176\u001b[0m \u001b[32m━━━━━━━━━━━━━━━━━━━━\u001b[0m\u001b[37m\u001b[0m \u001b[1m1s\u001b[0m 6ms/step - accuracy: 0.5095 - loss: 0.6890 - val_accuracy: 0.5036 - val_loss: 0.7682\n",
            "Epoch 20/25\n",
            "\u001b[1m176/176\u001b[0m \u001b[32m━━━━━━━━━━━━━━━━━━━━\u001b[0m\u001b[37m\u001b[0m \u001b[1m1s\u001b[0m 7ms/step - accuracy: 0.5180 - loss: 0.6849 - val_accuracy: 0.4940 - val_loss: 0.7652\n",
            "Epoch 21/25\n",
            "\u001b[1m176/176\u001b[0m \u001b[32m━━━━━━━━━━━━━━━━━━━━\u001b[0m\u001b[37m\u001b[0m \u001b[1m1s\u001b[0m 7ms/step - accuracy: 0.5173 - loss: 0.6827 - val_accuracy: 0.5184 - val_loss: 0.7611\n",
            "Epoch 22/25\n",
            "\u001b[1m176/176\u001b[0m \u001b[32m━━━━━━━━━━━━━━━━━━━━\u001b[0m\u001b[37m\u001b[0m \u001b[1m1s\u001b[0m 7ms/step - accuracy: 0.5140 - loss: 0.6832 - val_accuracy: 0.4908 - val_loss: 0.7654\n",
            "Epoch 23/25\n",
            "\u001b[1m176/176\u001b[0m \u001b[32m━━━━━━━━━━━━━━━━━━━━\u001b[0m\u001b[37m\u001b[0m \u001b[1m2s\u001b[0m 6ms/step - accuracy: 0.5135 - loss: 0.6826 - val_accuracy: 0.4912 - val_loss: 0.7569\n",
            "Epoch 24/25\n",
            "\u001b[1m176/176\u001b[0m \u001b[32m━━━━━━━━━━━━━━━━━━━━\u001b[0m\u001b[37m\u001b[0m \u001b[1m1s\u001b[0m 6ms/step - accuracy: 0.5133 - loss: 0.6800 - val_accuracy: 0.5004 - val_loss: 0.7619\n",
            "Epoch 25/25\n",
            "\u001b[1m176/176\u001b[0m \u001b[32m━━━━━━━━━━━━━━━━━━━━\u001b[0m\u001b[37m\u001b[0m \u001b[1m1s\u001b[0m 6ms/step - accuracy: 0.5152 - loss: 0.6801 - val_accuracy: 0.5196 - val_loss: 0.7533\n"
          ]
        }
      ]
    },
    {
      "cell_type": "code",
      "source": [
        "#1 - Default\n",
        "#save history\n",
        "train_accuracy_def = history.history['accuracy']\n",
        "val_accuracy_def = history.history['val_accuracy']\n",
        "\n",
        "#evaluate for test dataset\n",
        "scores = model.evaluate(x_test, y_test, verbose=1)\n",
        "test_accuracy_def = round(scores[1] * 100, 4)"
      ],
      "metadata": {
        "colab": {
          "base_uri": "https://localhost:8080/"
        },
        "id": "FImkZe_lQgLf",
        "outputId": "bc34994a-1bc1-4303-a2c7-67d55e575a1e"
      },
      "execution_count": 6,
      "outputs": [
        {
          "output_type": "stream",
          "name": "stdout",
          "text": [
            "\u001b[1m782/782\u001b[0m \u001b[32m━━━━━━━━━━━━━━━━━━━━\u001b[0m\u001b[37m\u001b[0m \u001b[1m2s\u001b[0m 3ms/step - accuracy: 0.4945 - loss: 0.8299\n"
          ]
        }
      ]
    },
    {
      "cell_type": "code",
      "source": [
        "#2 - One hot encoding\n",
        "# Load IMDb dataset\n",
        "max_words=10000\n",
        "(x_train, y_train), (x_test, y_test) = imdb.load_data(num_words=max_words)\n"
      ],
      "metadata": {
        "id": "I-JbScDsXtJb"
      },
      "execution_count": 7,
      "outputs": []
    },
    {
      "cell_type": "code",
      "source": [
        "#2 - One hot encoding\n",
        "#Prepare data for training\n",
        "\n",
        "#Function for vectorization\n",
        "def vectorize_sequences(sequences, dimension=10000):\n",
        "    results = np.zeros((len(sequences), dimension))\n",
        "    for i, sequence in enumerate(sequences):\n",
        "        results[i, sequence] = 1.\n",
        "    return results\n",
        "\n",
        "#vectorization of datasets\n",
        "x_train = vectorize_sequences(x_train, max_words)\n",
        "x_test = vectorize_sequences(x_test, max_words)"
      ],
      "metadata": {
        "id": "-z6SwPPQQkjX"
      },
      "execution_count": 8,
      "outputs": []
    },
    {
      "cell_type": "code",
      "source": [
        "#2 - One hot encoding\n",
        "#Create ANN\n",
        "model = Sequential()\n",
        "model.add(Dense(128, activation='relu', input_shape=(max_words,)))\n",
        "model.add(Dense(64, activation='relu'))\n",
        "model.add(Dense(1, activation='sigmoid'))\n",
        "\n",
        "model.compile(optimizer='adam',\n",
        "              loss='binary_crossentropy',\n",
        "              metrics=['accuracy'])"
      ],
      "metadata": {
        "id": "1arSiNs6UV4l"
      },
      "execution_count": 9,
      "outputs": []
    },
    {
      "cell_type": "code",
      "source": [
        "#2 - One hot encoding\n",
        "#Train ANN\n",
        "history = model.fit(x_train,\n",
        "                    y_train,\n",
        "                    epochs=10,\n",
        "                    batch_size=128,\n",
        "                    validation_split=0.1)"
      ],
      "metadata": {
        "colab": {
          "base_uri": "https://localhost:8080/"
        },
        "id": "qT8mfOitUcNt",
        "outputId": "3c3b3ae8-8a9e-47eb-8548-1a5200165174"
      },
      "execution_count": 10,
      "outputs": [
        {
          "output_type": "stream",
          "name": "stdout",
          "text": [
            "Epoch 1/10\n",
            "\u001b[1m176/176\u001b[0m \u001b[32m━━━━━━━━━━━━━━━━━━━━\u001b[0m\u001b[37m\u001b[0m \u001b[1m8s\u001b[0m 38ms/step - accuracy: 0.8099 - loss: 0.4157 - val_accuracy: 0.8840 - val_loss: 0.2794\n",
            "Epoch 2/10\n",
            "\u001b[1m176/176\u001b[0m \u001b[32m━━━━━━━━━━━━━━━━━━━━\u001b[0m\u001b[37m\u001b[0m \u001b[1m5s\u001b[0m 29ms/step - accuracy: 0.9446 - loss: 0.1541 - val_accuracy: 0.8808 - val_loss: 0.2971\n",
            "Epoch 3/10\n",
            "\u001b[1m176/176\u001b[0m \u001b[32m━━━━━━━━━━━━━━━━━━━━\u001b[0m\u001b[37m\u001b[0m \u001b[1m5s\u001b[0m 28ms/step - accuracy: 0.9752 - loss: 0.0756 - val_accuracy: 0.8776 - val_loss: 0.3707\n",
            "Epoch 4/10\n",
            "\u001b[1m176/176\u001b[0m \u001b[32m━━━━━━━━━━━━━━━━━━━━\u001b[0m\u001b[37m\u001b[0m \u001b[1m6s\u001b[0m 35ms/step - accuracy: 0.9921 - loss: 0.0287 - val_accuracy: 0.8800 - val_loss: 0.5049\n",
            "Epoch 5/10\n",
            "\u001b[1m176/176\u001b[0m \u001b[32m━━━━━━━━━━━━━━━━━━━━\u001b[0m\u001b[37m\u001b[0m \u001b[1m10s\u001b[0m 36ms/step - accuracy: 0.9985 - loss: 0.0073 - val_accuracy: 0.8816 - val_loss: 0.6502\n",
            "Epoch 6/10\n",
            "\u001b[1m176/176\u001b[0m \u001b[32m━━━━━━━━━━━━━━━━━━━━\u001b[0m\u001b[37m\u001b[0m \u001b[1m9s\u001b[0m 29ms/step - accuracy: 0.9999 - loss: 0.0013 - val_accuracy: 0.8816 - val_loss: 0.7452\n",
            "Epoch 7/10\n",
            "\u001b[1m176/176\u001b[0m \u001b[32m━━━━━━━━━━━━━━━━━━━━\u001b[0m\u001b[37m\u001b[0m \u001b[1m6s\u001b[0m 36ms/step - accuracy: 1.0000 - loss: 3.7216e-04 - val_accuracy: 0.8832 - val_loss: 0.8009\n",
            "Epoch 8/10\n",
            "\u001b[1m176/176\u001b[0m \u001b[32m━━━━━━━━━━━━━━━━━━━━\u001b[0m\u001b[37m\u001b[0m \u001b[1m5s\u001b[0m 28ms/step - accuracy: 1.0000 - loss: 2.0565e-04 - val_accuracy: 0.8832 - val_loss: 0.8398\n",
            "Epoch 9/10\n",
            "\u001b[1m176/176\u001b[0m \u001b[32m━━━━━━━━━━━━━━━━━━━━\u001b[0m\u001b[37m\u001b[0m \u001b[1m6s\u001b[0m 32ms/step - accuracy: 1.0000 - loss: 1.2666e-04 - val_accuracy: 0.8824 - val_loss: 0.8666\n",
            "Epoch 10/10\n",
            "\u001b[1m176/176\u001b[0m \u001b[32m━━━━━━━━━━━━━━━━━━━━\u001b[0m\u001b[37m\u001b[0m \u001b[1m6s\u001b[0m 32ms/step - accuracy: 1.0000 - loss: 9.1770e-05 - val_accuracy: 0.8832 - val_loss: 0.8904\n"
          ]
        }
      ]
    },
    {
      "cell_type": "code",
      "source": [
        "#2 - One hot encoding\n",
        "#save history\n",
        "train_accuracy_ohe = history.history['accuracy']\n",
        "val_accuracy_ohe = history.history['val_accuracy']\n",
        "\n",
        "#evaluate for test dataset\n",
        "scores = model.evaluate(x_test, y_test, verbose=1)\n",
        "test_accuracy_ohe = round(scores[1] * 100, 4)"
      ],
      "metadata": {
        "colab": {
          "base_uri": "https://localhost:8080/"
        },
        "id": "uVjicdZIUn9P",
        "outputId": "de2598a7-37b6-4281-df20-e24ae9d31e7f"
      },
      "execution_count": 11,
      "outputs": [
        {
          "output_type": "stream",
          "name": "stdout",
          "text": [
            "\u001b[1m782/782\u001b[0m \u001b[32m━━━━━━━━━━━━━━━━━━━━\u001b[0m\u001b[37m\u001b[0m \u001b[1m3s\u001b[0m 4ms/step - accuracy: 0.8653 - loss: 0.9428\n"
          ]
        }
      ]
    },
    {
      "cell_type": "code",
      "source": [
        "#3 - Embedding\n",
        "# Load IMDb dataset\n",
        "max_words=10000\n",
        "(x_train, y_train), (x_test, y_test) = imdb.load_data(num_words=max_words)"
      ],
      "metadata": {
        "id": "5r1h5qXOXygV"
      },
      "execution_count": 12,
      "outputs": []
    },
    {
      "cell_type": "code",
      "source": [
        "#3 - Embedding\n",
        "#Prepare data for training\n",
        "maxlen = 200\n",
        "x_train = pad_sequences(x_train, maxlen=maxlen, padding='post')\n",
        "x_test = pad_sequences(x_test, maxlen=maxlen, padding='post')"
      ],
      "metadata": {
        "id": "KTROgS-KBzEr"
      },
      "execution_count": 13,
      "outputs": []
    },
    {
      "cell_type": "code",
      "source": [
        "#3 - Embedding\n",
        "#Create ANN\n",
        "model = Sequential()\n",
        "model.add(Embedding(max_words, 50, input_length=maxlen))\n",
        "model.add(Dropout(0.25))\n",
        "model.add(Flatten())\n",
        "model.add(Dense(1, activation='sigmoid'))\n",
        "\n",
        "model.compile(optimizer='adam',\n",
        "              loss='binary_crossentropy',\n",
        "              metrics=['accuracy'])"
      ],
      "metadata": {
        "id": "6Hnb7hHGVch3",
        "colab": {
          "base_uri": "https://localhost:8080/"
        },
        "outputId": "b44a207d-bb21-4966-e394-90f0d3780433"
      },
      "execution_count": 14,
      "outputs": [
        {
          "output_type": "stream",
          "name": "stderr",
          "text": [
            "/usr/local/lib/python3.11/dist-packages/keras/src/layers/core/embedding.py:90: UserWarning: Argument `input_length` is deprecated. Just remove it.\n",
            "  warnings.warn(\n"
          ]
        }
      ]
    },
    {
      "cell_type": "code",
      "source": [
        "#3 - Embedding\n",
        "#Train ANN\n",
        "history = model.fit(x_train,\n",
        "                    y_train,\n",
        "                    epochs=15,\n",
        "                    batch_size=128,\n",
        "                    validation_split=0.1)"
      ],
      "metadata": {
        "colab": {
          "base_uri": "https://localhost:8080/"
        },
        "id": "VLl1CcCrZ7rD",
        "outputId": "a3ec5f5a-9da2-4024-9c81-324d3506da3a"
      },
      "execution_count": 15,
      "outputs": [
        {
          "output_type": "stream",
          "name": "stdout",
          "text": [
            "Epoch 1/15\n",
            "\u001b[1m176/176\u001b[0m \u001b[32m━━━━━━━━━━━━━━━━━━━━\u001b[0m\u001b[37m\u001b[0m \u001b[1m6s\u001b[0m 26ms/step - accuracy: 0.5795 - loss: 0.6697 - val_accuracy: 0.8300 - val_loss: 0.4207\n",
            "Epoch 2/15\n",
            "\u001b[1m176/176\u001b[0m \u001b[32m━━━━━━━━━━━━━━━━━━━━\u001b[0m\u001b[37m\u001b[0m \u001b[1m6s\u001b[0m 33ms/step - accuracy: 0.8630 - loss: 0.3414 - val_accuracy: 0.8412 - val_loss: 0.3550\n",
            "Epoch 3/15\n",
            "\u001b[1m176/176\u001b[0m \u001b[32m━━━━━━━━━━━━━━━━━━━━\u001b[0m\u001b[37m\u001b[0m \u001b[1m4s\u001b[0m 24ms/step - accuracy: 0.9220 - loss: 0.2171 - val_accuracy: 0.8708 - val_loss: 0.3070\n",
            "Epoch 4/15\n",
            "\u001b[1m176/176\u001b[0m \u001b[32m━━━━━━━━━━━━━━━━━━━━\u001b[0m\u001b[37m\u001b[0m \u001b[1m4s\u001b[0m 24ms/step - accuracy: 0.9571 - loss: 0.1467 - val_accuracy: 0.8852 - val_loss: 0.2957\n",
            "Epoch 5/15\n",
            "\u001b[1m176/176\u001b[0m \u001b[32m━━━━━━━━━━━━━━━━━━━━\u001b[0m\u001b[37m\u001b[0m \u001b[1m7s\u001b[0m 33ms/step - accuracy: 0.9749 - loss: 0.1020 - val_accuracy: 0.8812 - val_loss: 0.3058\n",
            "Epoch 6/15\n",
            "\u001b[1m176/176\u001b[0m \u001b[32m━━━━━━━━━━━━━━━━━━━━\u001b[0m\u001b[37m\u001b[0m \u001b[1m4s\u001b[0m 24ms/step - accuracy: 0.9898 - loss: 0.0643 - val_accuracy: 0.8732 - val_loss: 0.3242\n",
            "Epoch 7/15\n",
            "\u001b[1m176/176\u001b[0m \u001b[32m━━━━━━━━━━━━━━━━━━━━\u001b[0m\u001b[37m\u001b[0m \u001b[1m6s\u001b[0m 29ms/step - accuracy: 0.9943 - loss: 0.0450 - val_accuracy: 0.8656 - val_loss: 0.3513\n",
            "Epoch 8/15\n",
            "\u001b[1m176/176\u001b[0m \u001b[32m━━━━━━━━━━━━━━━━━━━━\u001b[0m\u001b[37m\u001b[0m \u001b[1m5s\u001b[0m 27ms/step - accuracy: 0.9978 - loss: 0.0296 - val_accuracy: 0.8724 - val_loss: 0.3407\n",
            "Epoch 9/15\n",
            "\u001b[1m176/176\u001b[0m \u001b[32m━━━━━━━━━━━━━━━━━━━━\u001b[0m\u001b[37m\u001b[0m \u001b[1m4s\u001b[0m 24ms/step - accuracy: 0.9979 - loss: 0.0226 - val_accuracy: 0.8688 - val_loss: 0.3644\n",
            "Epoch 10/15\n",
            "\u001b[1m176/176\u001b[0m \u001b[32m━━━━━━━━━━━━━━━━━━━━\u001b[0m\u001b[37m\u001b[0m \u001b[1m7s\u001b[0m 33ms/step - accuracy: 0.9992 - loss: 0.0152 - val_accuracy: 0.8752 - val_loss: 0.3693\n",
            "Epoch 11/15\n",
            "\u001b[1m176/176\u001b[0m \u001b[32m━━━━━━━━━━━━━━━━━━━━\u001b[0m\u001b[37m\u001b[0m \u001b[1m9s\u001b[0m 24ms/step - accuracy: 0.9998 - loss: 0.0111 - val_accuracy: 0.8760 - val_loss: 0.3759\n",
            "Epoch 12/15\n",
            "\u001b[1m176/176\u001b[0m \u001b[32m━━━━━━━━━━━━━━━━━━━━\u001b[0m\u001b[37m\u001b[0m \u001b[1m6s\u001b[0m 32ms/step - accuracy: 0.9994 - loss: 0.0096 - val_accuracy: 0.8732 - val_loss: 0.3937\n",
            "Epoch 13/15\n",
            "\u001b[1m176/176\u001b[0m \u001b[32m━━━━━━━━━━━━━━━━━━━━\u001b[0m\u001b[37m\u001b[0m \u001b[1m4s\u001b[0m 24ms/step - accuracy: 0.9997 - loss: 0.0079 - val_accuracy: 0.8780 - val_loss: 0.3945\n",
            "Epoch 14/15\n",
            "\u001b[1m176/176\u001b[0m \u001b[32m━━━━━━━━━━━━━━━━━━━━\u001b[0m\u001b[37m\u001b[0m \u001b[1m6s\u001b[0m 29ms/step - accuracy: 0.9996 - loss: 0.0070 - val_accuracy: 0.8724 - val_loss: 0.4082\n",
            "Epoch 15/15\n",
            "\u001b[1m176/176\u001b[0m \u001b[32m━━━━━━━━━━━━━━━━━━━━\u001b[0m\u001b[37m\u001b[0m \u001b[1m5s\u001b[0m 28ms/step - accuracy: 0.9999 - loss: 0.0043 - val_accuracy: 0.8772 - val_loss: 0.4155\n"
          ]
        }
      ]
    },
    {
      "cell_type": "code",
      "source": [
        "#3 - Embedding\n",
        "#save history\n",
        "train_accuracy_emb = history.history['accuracy']\n",
        "val_accuracy_emb = history.history['val_accuracy']\n",
        "\n",
        "#evaluate for test dataset\n",
        "scores = model.evaluate(x_test, y_test, verbose=1)\n",
        "test_accuracy_emb = round(scores[1] * 100, 4)"
      ],
      "metadata": {
        "colab": {
          "base_uri": "https://localhost:8080/"
        },
        "id": "BjwBWk_PNHpG",
        "outputId": "3dec9e8d-d837-414d-9b90-98f88259015c"
      },
      "execution_count": 16,
      "outputs": [
        {
          "output_type": "stream",
          "name": "stdout",
          "text": [
            "\u001b[1m782/782\u001b[0m \u001b[32m━━━━━━━━━━━━━━━━━━━━\u001b[0m\u001b[37m\u001b[0m \u001b[1m2s\u001b[0m 2ms/step - accuracy: 0.8623 - loss: 0.4217\n"
          ]
        }
      ]
    },
    {
      "cell_type": "code",
      "source": [
        "#Visualization\n",
        "fig, axes = plt.subplots(1, 3, figsize=(15, 5))\n",
        "\n",
        "axes[0].plot(train_accuracy_def, label='train_accuracy')\n",
        "axes[0].plot(val_accuracy_def, label='val_accuracy')\n",
        "axes[0].set_title(f\"Default, test_acc = {test_accuracy_def} %\")\n",
        "axes[0].set_xlabel('epoch')\n",
        "axes[0].set_ylabel('accuracy')\n",
        "axes[0].set_ylim(0.4, 1)\n",
        "axes[0].legend()\n",
        "\n",
        "axes[1].plot(train_accuracy_ohe, label='train_accuracy')\n",
        "axes[1].plot(val_accuracy_ohe, label='val_accuracy')\n",
        "axes[1].set_title(f\"One hot encoding , test_acc = {test_accuracy_ohe} %\")\n",
        "axes[1].set_xlabel('epoch')\n",
        "axes[1].set_ylabel('accuracy')\n",
        "axes[1].set_ylim(0.4, 1)\n",
        "axes[1].legend()\n",
        "\n",
        "axes[2].plot(train_accuracy_emb, label='train_accuracy')\n",
        "axes[2].plot(val_accuracy_emb, label='val_accuracy')\n",
        "axes[2].set_title(f\"Embedding, test_acc = {test_accuracy_emb} %\")\n",
        "axes[2].set_xlabel('epoch')\n",
        "axes[2].set_ylabel('accuracy')\n",
        "axes[2].set_ylim(0.4, 1)\n",
        "axes[2].legend()\n",
        "\n",
        "\n",
        "plt.tight_layout()\n",
        "plt.show()"
      ],
      "metadata": {
        "colab": {
          "base_uri": "https://localhost:8080/",
          "height": 482
        },
        "id": "-7W7cYRgN23W",
        "outputId": "507365b2-abee-41c7-f597-554700daab14"
      },
      "execution_count": 17,
      "outputs": [
        {
          "output_type": "display_data",
          "data": {
            "text/plain": [
              "<Figure size 1500x500 with 3 Axes>"
            ],
            "image/png": "[encoded data removed]"
          },
          "metadata": {}
        }
      ]
    }
  ]
}